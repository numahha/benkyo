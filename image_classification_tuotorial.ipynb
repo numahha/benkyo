{
 "cells": [
  {
   "cell_type": "markdown",
   "id": "09e31232",
   "metadata": {},
   "source": [
    "# 画像分類例題"
   ]
  },
  {
   "cell_type": "markdown",
   "id": "8fe839ad",
   "metadata": {},
   "source": [
    "## ライブラリインポート"
   ]
  },
  {
   "cell_type": "code",
   "execution_count": 1,
   "id": "09c8cf4a",
   "metadata": {},
   "outputs": [],
   "source": [
    "import numpy as np\n",
    "import matplotlib.pyplot as plt\n",
    "import torch\n",
    "import torchvision\n",
    "import torchvision.transforms as transforms\n",
    "from torch import optim\n",
    "np.set_printoptions(suppress=True, precision=1,linewidth=280)"
   ]
  },
  {
   "cell_type": "markdown",
   "id": "0f6f71e6",
   "metadata": {},
   "source": [
    "## データセット取得"
   ]
  },
  {
   "cell_type": "code",
   "execution_count": 2,
   "id": "86298a73",
   "metadata": {},
   "outputs": [],
   "source": [
    "train_data = torchvision.datasets.MNIST(\n",
    "    root = 'data',\n",
    "    train = True,                         \n",
    "    transform = transforms.ToTensor(), \n",
    "    download = True,            \n",
    ")\n",
    "\n",
    "train_data_loader = torch.utils.data.DataLoader(train_data,\n",
    "                                                batch_size=100,\n",
    "                                                shuffle=True)\n"
   ]
  },
  {
   "cell_type": "markdown",
   "id": "231dc431",
   "metadata": {},
   "source": [
    "## データの中身を確認"
   ]
  },
  {
   "cell_type": "code",
   "execution_count": 4,
   "id": "21a072fd",
   "metadata": {},
   "outputs": [
    {
     "name": "stdout",
     "output_type": "stream",
     "text": [
      "images.size() = torch.Size([100, 1, 28, 28]) , [データ番号、チャンネル（白黒画像なので輝度のみ）、行、列]\n",
      "labels[1] = tensor(6) , ラベルデータ\n",
      "images[1][0].numpy() =\n",
      " [[0.  0.  0.  0.  0.  0.  0.  0.  0.  0.  0.  0.  0.  0.  0.  0.  0.  0.  0.  0.  0.  0.  0.  0.  0.  0.  0.  0. ]\n",
      " [0.  0.  0.  0.  0.  0.  0.  0.  0.  0.  0.  0.  0.  0.  0.  0.  0.  0.  0.  0.  0.  0.  0.  0.  0.  0.  0.  0. ]\n",
      " [0.  0.  0.  0.  0.  0.  0.  0.  0.  0.  0.  0.  0.  0.  0.  0.  0.  0.  0.  0.  0.  0.  0.  0.  0.  0.  0.  0. ]\n",
      " [0.  0.  0.  0.  0.  0.  0.  0.  0.1 0.6 0.4 0.  0.  0.  0.  0.  0.  0.  0.  0.  0.  0.  0.  0.  0.  0.  0.  0. ]\n",
      " [0.  0.  0.  0.  0.  0.  0.  0.  0.7 1.  1.  0.4 0.  0.  0.  0.  0.  0.  0.  0.  0.  0.  0.  0.  0.  0.  0.  0. ]\n",
      " [0.  0.  0.  0.  0.  0.  0.  0.5 1.  1.  1.  0.8 0.  0.  0.  0.  0.  0.  0.  0.  0.  0.  0.  0.  0.  0.  0.  0. ]\n",
      " [0.  0.  0.  0.  0.  0.  0.2 0.9 1.  1.  1.  1.  0.3 0.  0.  0.  0.  0.  0.  0.  0.  0.  0.  0.  0.  0.  0.  0. ]\n",
      " [0.  0.  0.  0.  0.  0.  0.8 1.  1.  1.  0.9 1.  0.4 0.  0.  0.  0.  0.  0.  0.  0.  0.  0.  0.  0.  0.  0.  0. ]\n",
      " [0.  0.  0.  0.  0.  0.  1.  1.  1.  0.9 0.1 0.3 0.  0.  0.  0.  0.  0.  0.  0.  0.  0.  0.  0.  0.  0.  0.  0. ]\n",
      " [0.  0.  0.  0.  0.  0.  1.  1.  1.  0.4 0.  0.1 0.4 0.4 0.  0.  0.  0.  0.  0.  0.  0.  0.  0.  0.  0.  0.  0. ]\n",
      " [0.  0.  0.  0.  0.  0.  1.  1.  1.  0.4 0.  0.4 1.  1.  0.8 0.4 0.1 0.  0.  0.  0.  0.  0.  0.  0.  0.  0.  0. ]\n",
      " [0.  0.  0.  0.  0.  0.  1.  1.  1.  0.4 0.  0.7 1.  1.  1.  1.  1.  0.7 0.2 0.  0.  0.  0.  0.  0.  0.  0.  0. ]\n",
      " [0.  0.  0.  0.  0.  0.  1.  1.  1.  0.4 0.  0.5 1.  1.  1.  1.  1.  1.  1.  0.8 0.3 0.  0.  0.  0.  0.  0.  0. ]\n",
      " [0.  0.  0.  0.  0.  0.  1.  1.  1.  0.4 0.  0.3 1.  1.  0.9 0.6 0.9 1.  1.  1.  0.9 0.6 0.  0.  0.  0.  0.  0. ]\n",
      " [0.  0.  0.  0.  0.  0.  0.9 1.  1.  0.9 0.1 0.1 1.  1.  0.7 0.  0.  0.3 0.9 1.  1.  1.  0.9 0.1 0.  0.  0.  0. ]\n",
      " [0.  0.  0.  0.  0.  0.  0.2 1.  1.  1.  0.6 0.  0.4 0.8 0.4 0.  0.  0.  0.  0.2 0.7 1.  1.  0.8 0.1 0.  0.  0. ]\n",
      " [0.  0.  0.  0.  0.  0.  0.  0.7 1.  1.  1.  0.5 0.  0.  0.  0.  0.  0.  0.  0.  0.1 0.6 1.  1.  0.6 0.  0.  0. ]\n",
      " [0.  0.  0.  0.  0.  0.  0.  0.  0.7 1.  1.  1.  0.7 0.2 0.  0.  0.  0.  0.  0.  0.  0.1 0.8 1.  0.9 0.2 0.  0. ]\n",
      " [0.  0.  0.  0.  0.  0.  0.  0.  0.  0.8 1.  1.  1.  1.  0.6 0.2 0.1 0.  0.  0.  0.  0.  0.1 1.  1.  0.4 0.  0. ]\n",
      " [0.  0.  0.  0.  0.  0.  0.  0.  0.  0.1 0.6 1.  1.  1.  1.  1.  0.9 0.8 0.6 0.4 0.4 0.5 0.9 1.  1.  0.8 0.  0. ]\n",
      " [0.  0.  0.  0.  0.  0.  0.  0.  0.  0.  0.  0.3 0.9 1.  1.  1.  1.  1.  1.  1.  1.  1.  1.  1.  1.  0.7 0.  0. ]\n",
      " [0.  0.  0.  0.  0.  0.  0.  0.  0.  0.  0.  0.  0.1 0.4 0.7 0.9 1.  1.  1.  1.  1.  1.  1.  1.  0.7 0.1 0.  0. ]\n",
      " [0.  0.  0.  0.  0.  0.  0.  0.  0.  0.  0.  0.  0.  0.  0.  0.1 0.2 0.5 0.6 0.5 0.6 0.6 0.6 0.2 0.  0.  0.  0. ]\n",
      " [0.  0.  0.  0.  0.  0.  0.  0.  0.  0.  0.  0.  0.  0.  0.  0.  0.  0.  0.  0.  0.  0.  0.  0.  0.  0.  0.  0. ]\n",
      " [0.  0.  0.  0.  0.  0.  0.  0.  0.  0.  0.  0.  0.  0.  0.  0.  0.  0.  0.  0.  0.  0.  0.  0.  0.  0.  0.  0. ]\n",
      " [0.  0.  0.  0.  0.  0.  0.  0.  0.  0.  0.  0.  0.  0.  0.  0.  0.  0.  0.  0.  0.  0.  0.  0.  0.  0.  0.  0. ]\n",
      " [0.  0.  0.  0.  0.  0.  0.  0.  0.  0.  0.  0.  0.  0.  0.  0.  0.  0.  0.  0.  0.  0.  0.  0.  0.  0.  0.  0. ]\n",
      " [0.  0.  0.  0.  0.  0.  0.  0.  0.  0.  0.  0.  0.  0.  0.  0.  0.  0.  0.  0.  0.  0.  0.  0.  0.  0.  0.  0. ]] , 輝度データをそのまま表示\n"
     ]
    },
    {
     "data": {
      "text/plain": [
       "<matplotlib.image.AxesImage at 0x23713d14790>"
      ]
     },
     "execution_count": 4,
     "metadata": {},
     "output_type": "execute_result"
    },
    {
     "data": {
      "image/png": "[encoded data removed]",
      "text/plain": [
       "<Figure size 432x288 with 1 Axes>"
      ]
     },
     "metadata": {
      "needs_background": "light"
     },
     "output_type": "display_data"
    }
   ],
   "source": [
    "train_data_iter = iter(train_data_loader)\n",
    "images, labels = train_data_iter.next()\n",
    "\n",
    "i=1\n",
    "print(\"images.size() =\",images.size(),\", [データ番号、チャンネル（白黒画像なので輝度のみ）、行、列]\")\n",
    "print(\"labels[\"+str(i)+\"] =\",labels[i],\", ラベルデータ\")\n",
    "print(\"images[\"+str(i)+\"][0].numpy() =\\n\",images[i][0].numpy(),\", 輝度データをそのまま表示\")\n",
    "plt.imshow(images[i][0]) # \n"
   ]
  },
  {
   "cell_type": "markdown",
   "id": "315b12df",
   "metadata": {},
   "source": [
    "## CNN"
   ]
  },
  {
   "cell_type": "code",
   "execution_count": 5,
   "id": "c051d6d3",
   "metadata": {},
   "outputs": [],
   "source": [
    "class CNN(torch.nn.Module):\n",
    "    def __init__(self):\n",
    "        super(CNN, self).__init__()\n",
    "        self.conv1 = torch.nn.Sequential(\n",
    "                         torch.nn.Conv2d(\n",
    "                             in_channels=1,              \n",
    "                             out_channels=16,            \n",
    "                             kernel_size=5,              \n",
    "                             stride=1,                   \n",
    "                             padding=2,                  \n",
    "                         ),                              \n",
    "                         torch.nn.ReLU(),                      \n",
    "                         torch.nn.MaxPool2d(kernel_size=2),    \n",
    "                      )\n",
    "        self.conv2 = torch.nn.Sequential(\n",
    "                         torch.nn.Conv2d(\n",
    "                             in_channels=16, \n",
    "                             out_channels=32, \n",
    "                             kernel_size=5, \n",
    "                             stride=1, \n",
    "                             padding=2\n",
    "                         ),\n",
    "                         torch.nn.ReLU(),                      \n",
    "                         torch.nn.MaxPool2d(2),                \n",
    "                     )\n",
    "        self.fc = torch.nn.Linear(32 * 7 * 7, 10)\n",
    "        self.out = torch.nn.Softmax()\n",
    "        \n",
    "    def forward(self, x):\n",
    "        x = self.conv1(x)\n",
    "        x = self.conv2(x)\n",
    "        x = x.view(x.size(0), -1) # 行列データを並べ替えて1次元化    \n",
    "        output = self.out(self.fc(x))\n",
    "        return output"
   ]
  },
  {
   "cell_type": "code",
   "execution_count": 7,
   "id": "4756a835",
   "metadata": {},
   "outputs": [
    {
     "name": "stdout",
     "output_type": "stream",
     "text": [
      "CNN = CNN(\n",
      "  (conv1): Sequential(\n",
      "    (0): Conv2d(1, 16, kernel_size=(5, 5), stride=(1, 1), padding=(2, 2))\n",
      "    (1): ReLU()\n",
      "    (2): MaxPool2d(kernel_size=2, stride=2, padding=0, dilation=1, ceil_mode=False)\n",
      "  )\n",
      "  (conv2): Sequential(\n",
      "    (0): Conv2d(16, 32, kernel_size=(5, 5), stride=(1, 1), padding=(2, 2))\n",
      "    (1): ReLU()\n",
      "    (2): MaxPool2d(kernel_size=2, stride=2, padding=0, dilation=1, ceil_mode=False)\n",
      "  )\n",
      "  (fc): Linear(in_features=1568, out_features=10, bias=True)\n",
      "  (out): Softmax(dim=None)\n",
      ")\n"
     ]
    }
   ],
   "source": [
    "cnn = CNN()\n",
    "print(\"CNN =\",cnn)"
   ]
  },
  {
   "cell_type": "markdown",
   "id": "78707cd3",
   "metadata": {},
   "source": [
    "## クロスエントロピー損失"
   ]
  },
  {
   "cell_type": "code",
   "execution_count": 8,
   "id": "df78fa2e",
   "metadata": {},
   "outputs": [],
   "source": [
    "loss_func = torch.nn.CrossEntropyLoss()\n",
    "# 第一引数：モデルによる予測、第二引数：正解ラベルデータ、とする。\n",
    "# 今回の実装では、スライドの説明と一貫性を持たせるため、ラベル選択確率をcnnモデルで出力して第一引数に突っ込んでいる。\n",
    "\n",
    "# （発展的内容コメント）このtorch.nn.CrossEntropyLoss()関数は、第一引数に対してsoftmaxを適用するような実装になっているので、\n",
    "# 規格化していないラベル選択確率の対数を第一引数に突っ込んでもOK（たぶん、その方が実装としては効率的）\n",
    "# 詳しくは、https://pytorch.org/docs/stable/generated/torch.nn.CrossEntropyLoss.htmlを見る事"
   ]
  },
  {
   "cell_type": "markdown",
   "id": "7907cce3",
   "metadata": {},
   "source": [
    "## 確率的勾配降下法"
   ]
  },
  {
   "cell_type": "code",
   "execution_count": 9,
   "id": "04993658",
   "metadata": {},
   "outputs": [],
   "source": [
    "optimizer = optim.SGD(cnn.parameters(), lr = 0.9)   "
   ]
  },
  {
   "cell_type": "markdown",
   "id": "2e3da1fe",
   "metadata": {},
   "source": [
    "## 分類器の訓練"
   ]
  },
  {
   "cell_type": "code",
   "execution_count": 21,
   "id": "eec9f159",
   "metadata": {},
   "outputs": [
    {
     "name": "stderr",
     "output_type": "stream",
     "text": [
      "C:\\Users\\toru.hishinuma\\AppData\\Local\\Temp\\ipykernel_14400\\614790957.py:33: UserWarning: Implicit dimension choice for softmax has been deprecated. Change the call to include dim=X as an argument.\n",
      "  output = self.out(self.fc(x))\n"
     ]
    },
    {
     "name": "stdout",
     "output_type": "stream",
     "text": [
      "running_loss = 944.9180841445923\n",
      "running_loss = 943.1149436235428\n"
     ]
    }
   ],
   "source": [
    "for epoch in range(2): # データセットを周回する回数\n",
    "    running_loss = 0.0\n",
    "    for data in train_data_loader:\n",
    "        images, labels = data\n",
    "        \n",
    "        optimizer.zero_grad()\n",
    "\n",
    "        outputs = cnn(images)\n",
    "        loss = loss_func(outputs, labels)\n",
    "        loss.backward()\n",
    "        optimizer.step()\n",
    "\n",
    "        # print statistics\n",
    "        running_loss += loss.item()\n",
    "    print(\"running_loss =\",running_loss)\n"
   ]
  },
  {
   "cell_type": "markdown",
   "id": "718de41b",
   "metadata": {},
   "source": [
    "## 訓練した分類器の予測を確認"
   ]
  },
  {
   "cell_type": "code",
   "execution_count": 65,
   "id": "5a61b05f",
   "metadata": {},
   "outputs": [
    {
     "name": "stdout",
     "output_type": "stream",
     "text": [
      "labels[2] = tensor(6) , ラベルデータ\n",
      "outputs[2] = tensor([4.8491e-17, 6.1729e-22, 6.7557e-22, 2.7741e-20, 5.1739e-13, 1.8074e-14,\n",
      "        1.0000e+00, 1.9776e-21, 1.2148e-18, 1.7341e-19],\n",
      "       grad_fn=<SelectBackward0>) , モデルで予測したラベル選択確率\n",
      "torch.argmax(outputs[2]) = tensor(6) , 予測ラベル（モデルで予測したラベル選択確率が最大のラベル）\n",
      "images[2][0].numpy() =\n",
      " [[0.  0.  0.  0.  0.  0.  0.  0.  0.  0.  0.  0.  0.  0.  0.  0.  0.  0.  0.  0.  0.  0.  0.  0.  0.  0.  0.  0. ]\n",
      " [0.  0.  0.  0.  0.  0.  0.  0.  0.  0.  0.  0.  0.1 0.6 0.8 0.  0.  0.  0.  0.  0.  0.  0.  0.  0.  0.  0.  0. ]\n",
      " [0.  0.  0.  0.  0.  0.  0.  0.  0.  0.  0.  0.1 0.8 1.  1.  0.5 0.  0.  0.  0.  0.  0.  0.  0.  0.  0.  0.  0. ]\n",
      " [0.  0.  0.  0.  0.  0.  0.  0.  0.  0.  0.  0.7 1.  1.  1.  0.3 0.  0.  0.  0.  0.  0.  0.  0.  0.  0.  0.  0. ]\n",
      " [0.  0.  0.  0.  0.  0.  0.  0.  0.  0.  0.4 1.  1.  0.9 0.1 0.  0.  0.  0.  0.  0.  0.  0.  0.  0.  0.  0.  0. ]\n",
      " [0.  0.  0.  0.  0.  0.  0.  0.  0.  0.1 0.9 0.9 0.9 0.4 0.  0.  0.  0.  0.  0.  0.  0.  0.  0.  0.  0.  0.  0. ]\n",
      " [0.  0.  0.  0.  0.  0.  0.  0.  0.  0.5 1.  0.8 0.1 0.  0.  0.  0.  0.  0.  0.  0.  0.  0.  0.  0.  0.  0.  0. ]\n",
      " [0.  0.  0.  0.  0.  0.  0.  0.  0.4 1.  1.  0.6 0.  0.  0.  0.  0.  0.  0.  0.  0.  0.  0.  0.  0.  0.  0.  0. ]\n",
      " [0.  0.  0.  0.  0.  0.  0.  0.  0.6 1.  1.  0.2 0.  0.  0.  0.  0.  0.  0.  0.  0.  0.  0.  0.  0.  0.  0.  0. ]\n",
      " [0.  0.  0.  0.  0.  0.  0.  0.  0.8 1.  0.9 0.  0.  0.  0.  0.  0.  0.  0.  0.  0.  0.  0.  0.  0.  0.  0.  0. ]\n",
      " [0.  0.  0.  0.  0.  0.  0.  0.7 1.  0.9 0.2 0.  0.  0.  0.  0.  0.  0.  0.  0.  0.  0.  0.  0.  0.  0.  0.  0. ]\n",
      " [0.  0.  0.  0.  0.  0.  0.  0.9 1.  0.7 0.  0.  0.  0.  0.  0.  0.  0.  0.  0.  0.  0.  0.  0.  0.  0.  0.  0. ]\n",
      " [0.  0.  0.  0.  0.  0.  0.  0.9 1.  0.7 0.  0.  0.  0.  0.  0.  0.1 0.4 0.7 0.9 0.9 0.2 0.  0.  0.  0.  0.  0. ]\n",
      " [0.  0.  0.  0.  0.  0.  0.3 1.  1.  0.4 0.  0.  0.  0.  0.1 0.4 1.  1.  1.  1.  1.  0.9 0.1 0.  0.  0.  0.  0. ]\n",
      " [0.  0.  0.  0.  0.  0.  0.3 1.  1.  0.3 0.  0.  0.  0.  0.4 1.  1.  1.  1.  1.  1.  1.  0.4 0.  0.  0.  0.  0. ]\n",
      " [0.  0.  0.  0.  0.  0.  0.3 1.  1.  0.7 0.  0.  0.  0.5 1.  1.  1.  1.  0.5 0.7 1.  1.  0.4 0.  0.  0.  0.  0. ]\n",
      " [0.  0.  0.  0.  0.  0.  0.3 1.  1.  0.7 0.  0.  0.1 0.9 1.  1.  0.8 0.5 0.  0.2 1.  1.  0.4 0.  0.  0.  0.  0. ]\n",
      " [0.  0.  0.  0.  0.  0.  0.2 0.9 1.  0.9 0.8 0.2 0.8 1.  1.  1.  0.5 0.3 0.5 0.9 1.  1.  0.6 0.  0.  0.  0.  0. ]\n",
      " [0.  0.  0.  0.  0.  0.  0.  0.2 0.9 1.  1.  1.  1.  1.  1.  1.  1.  1.  1.  1.  1.  0.9 0.4 0.  0.  0.  0.  0. ]\n",
      " [0.  0.  0.  0.  0.  0.  0.  0.  0.4 0.7 1.  1.  1.  1.  1.  1.  1.  1.  1.  1.  0.8 0.2 0.  0.  0.  0.  0.  0. ]\n",
      " [0.  0.  0.  0.  0.  0.  0.  0.  0.  0.2 0.6 0.6 0.7 1.  0.9 0.9 0.6 0.4 0.6 0.3 0.  0.  0.  0.  0.  0.  0.  0. ]\n",
      " [0.  0.  0.  0.  0.  0.  0.  0.  0.  0.  0.  0.  0.  0.  0.  0.  0.  0.  0.  0.  0.  0.  0.  0.  0.  0.  0.  0. ]\n",
      " [0.  0.  0.  0.  0.  0.  0.  0.  0.  0.  0.  0.  0.  0.  0.  0.  0.  0.  0.  0.  0.  0.  0.  0.  0.  0.  0.  0. ]\n",
      " [0.  0.  0.  0.  0.  0.  0.  0.  0.  0.  0.  0.  0.  0.  0.  0.  0.  0.  0.  0.  0.  0.  0.  0.  0.  0.  0.  0. ]\n",
      " [0.  0.  0.  0.  0.  0.  0.  0.  0.  0.  0.  0.  0.  0.  0.  0.  0.  0.  0.  0.  0.  0.  0.  0.  0.  0.  0.  0. ]\n",
      " [0.  0.  0.  0.  0.  0.  0.  0.  0.  0.  0.  0.  0.  0.  0.  0.  0.  0.  0.  0.  0.  0.  0.  0.  0.  0.  0.  0. ]\n",
      " [0.  0.  0.  0.  0.  0.  0.  0.  0.  0.  0.  0.  0.  0.  0.  0.  0.  0.  0.  0.  0.  0.  0.  0.  0.  0.  0.  0. ]\n",
      " [0.  0.  0.  0.  0.  0.  0.  0.  0.  0.  0.  0.  0.  0.  0.  0.  0.  0.  0.  0.  0.  0.  0.  0.  0.  0.  0.  0. ]] , 輝度データをそのまま表示\n"
     ]
    },
    {
     "name": "stderr",
     "output_type": "stream",
     "text": [
      "C:\\Users\\toru.hishinuma\\AppData\\Local\\Temp\\ipykernel_14400\\614790957.py:33: UserWarning: Implicit dimension choice for softmax has been deprecated. Change the call to include dim=X as an argument.\n",
      "  output = self.out(self.fc(x))\n"
     ]
    },
    {
     "data": {
      "text/plain": [
       "<matplotlib.image.AxesImage at 0x23719f6d1c0>"
      ]
     },
     "execution_count": 65,
     "metadata": {},
     "output_type": "execute_result"
    },
    {
     "data": {
      "image/png": "[encoded data removed]",
      "text/plain": [
       "<Figure size 432x288 with 1 Axes>"
      ]
     },
     "metadata": {
      "needs_background": "light"
     },
     "output_type": "display_data"
    }
   ],
   "source": [
    "train_data_iter = iter(train_data_loader)\n",
    "images, labels = train_data_iter.next()\n",
    "outputs = cnn(images)\n",
    "\n",
    "i=2\n",
    "print(\"labels[\"+str(i)+\"] =\",labels[i], \", ラベルデータ\")\n",
    "print(\"outputs[\"+str(i)+\"] =\",outputs[i], \", モデルで予測したラベル選択確率\")\n",
    "print(\"torch.argmax(outputs[\"+str(i)+\"]) =\",torch.argmax(outputs[i]), \", 予測ラベル（モデルで予測したラベル選択確率が最大のラベル）\")\n",
    "print(\"images[\"+str(i)+\"][0].numpy() =\\n\",images[i][0].numpy(), \", 輝度データをそのまま表示\")\n",
    "plt.imshow(images[i][0])\n"
   ]
  },
  {
   "cell_type": "code",
   "execution_count": null,
   "id": "a164cf45",
   "metadata": {},
   "outputs": [],
   "source": []
  },
  {
   "cell_type": "code",
   "execution_count": null,
   "id": "5feb9c1f",
   "metadata": {},
   "outputs": [],
   "source": []
  }
 ],
 "metadata": {
  "kernelspec": {
   "display_name": "Python 3 (ipykernel)",
   "language": "python",
   "name": "python3"
  },
  "language_info": {
   "codemirror_mode": {
    "name": "ipython",
    "version": 3
   },
   "file_extension": ".py",
   "mimetype": "text/x-python",
   "name": "python",
   "nbconvert_exporter": "python",
   "pygments_lexer": "ipython3",
   "version": "3.8.0"
  }
 },
 "nbformat": 4,
 "nbformat_minor": 5
}
