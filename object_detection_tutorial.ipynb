{
 "cells": [
  {
   "cell_type": "markdown",
   "metadata": {},
   "source": [
    "# yolov3を触ってみる"
   ]
  },
  {
   "cell_type": "markdown",
   "metadata": {},
   "source": [
    "## インストール\n",
    "\n",
    "前回同様windows機にanacondaをインストールした状況で、anaconda promptを開いて、以下を実行\n",
    "```\n",
    "conda create -n yolov3test python==3.8\n",
    "conda activate yolov3test\n",
    "git clone https://github.com/ultralytics/yolov3\n",
    "cd yolov3\n",
    "pip install -r requirements.txt\n",
    "pip install notebook\n",
    "jupyter notebook\n",
    "\n",
    "```"
   ]
  },
  {
   "cell_type": "markdown",
   "metadata": {},
   "source": [
    "## 学習済みモデルで物体検出を実行\n",
    "\n",
    "次のセルをjupyter notebook上で実行する"
   ]
  },
  {
   "cell_type": "code",
   "execution_count": 2,
   "metadata": {},
   "outputs": [
    {
     "name": "stderr",
     "output_type": "stream",
     "text": [
      "Using cache found in C:\\Users\\toru.hishinuma/.cache\\torch\\hub\\ultralytics_yolov3_master\n",
      "YOLOv3  2022-7-31 torch 1.12.0+cpu CPU\n",
      "\n",
      "Fusing layers... \n",
      "Model Summary: 261 layers, 61922845 parameters, 0 gradients\n",
      "Adding AutoShape... \n",
      "image 1/1: 720x1280 2 persons, 2 ties\n",
      "Speed: 14729.1ms pre-process, 2517.7ms inference, 4.0ms NMS per image at shape (1, 3, 384, 640)\n"
     ]
    }
   ],
   "source": [
    "import torch\n",
    "\n",
    "# Model\n",
    "model = torch.hub.load('ultralytics/yolov3', 'yolov3')  # or yolov3-spp, yolov3-tiny, custom\n",
    "\n",
    "# Images\n",
    "img = 'https://ultralytics.com/images/zidane.jpg'  # or file, Path, PIL, OpenCV, numpy, list\n",
    "\n",
    "# Inference\n",
    "results = model(img)\n",
    "\n",
    "# Results\n",
    "results.print()  # or .show(), .save(), .crop(), .pandas(), etc."
   ]
  },
  {
   "cell_type": "markdown",
   "metadata": {},
   "source": [
    "上のセルを実行すると、\n",
    "\n",
    "C:\\Users\\toru.hishinuma\\Desktop\\yolov3\\data\\images\n",
    "\n",
    "にある入力データに対して物体検出した結果が\n",
    "\n",
    "C:\\Users\\toru.hishinuma\\Desktop\\yolov3\\runs\\detect\\exp\n",
    "\n",
    "のフォルダに出力される。"
   ]
  },
  {
   "cell_type": "code",
   "execution_count": null,
   "metadata": {},
   "outputs": [],
   "source": []
  }
 ],
 "metadata": {
  "kernelspec": {
   "display_name": "Python 3 (ipykernel)",
   "language": "python",
   "name": "python3"
  },
  "language_info": {
   "codemirror_mode": {
    "name": "ipython",
    "version": 3
   },
   "file_extension": ".py",
   "mimetype": "text/x-python",
   "name": "python",
   "nbconvert_exporter": "python",
   "pygments_lexer": "ipython3",
   "version": "3.7.0"
  }
 },
 "nbformat": 4,
 "nbformat_minor": 4
}
