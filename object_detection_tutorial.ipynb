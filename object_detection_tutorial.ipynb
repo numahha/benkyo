{
 "cells": [
  {
   "cell_type": "markdown",
   "metadata": {},
   "source": [
    "# yolov3を触ってみる"
   ]
  },
  {
   "cell_type": "markdown",
   "metadata": {},
   "source": [
    "## インストール\n",
    "\n",
    "前回同様windows機にanacondaをインストールした状況で、anaconda promptを開いて、以下を実行\n",
    "```\n",
    "conda create -n yolov3test python==3.8\n",
    "conda activate yolov3test\n",
    "git clone https://github.com/ultralytics/yolov3\n",
    "cd yolov3\n",
    "pip install -r requirements.txt\n",
    "pip install notebook\n",
    "jupyter notebook\n",
    "\n",
    "```"
   ]
  },
  {
   "cell_type": "markdown",
   "metadata": {},
   "source": [
    "## 学習済みモデルで物体検出を実行\n",
    "\n",
    "次を実行する\n",
    "```\n",
    "python detect.py\n",
    "```\n",
    "実行後\n",
    "\n",
    "C:\\Users\\toru.hishinuma\\Desktop\\yolov3\\data\\images\n",
    "\n",
    "にある入力データに対して物体検出した結果が\n",
    "\n",
    "C:\\Users\\toru.hishinuma\\Desktop\\yolov3\\runs\\detect\\exp\n",
    "\n",
    "のフォルダに出力される。\n"
   ]
  },
  {
   "cell_type": "code",
   "execution_count": 1,
   "metadata": {},
   "outputs": [
    {
     "name": "stderr",
     "output_type": "stream",
     "text": [
      "C:\\Users\\toru.hishinuma\\anaconda3\\envs\\yolov3_test\\lib\\site-packages\\tqdm\\auto.py:22: TqdmWarning: IProgress not found. Please update jupyter and ipywidgets. See https://ipywidgets.readthedocs.io/en/stable/user_install.html\n",
      "  from .autonotebook import tqdm as notebook_tqdm\n",
      "Using cache found in C:\\Users\\toru.hishinuma/.cache\\torch\\hub\\ultralytics_yolov3_master\n",
      "YOLOv3  2022-7-31 torch 1.12.0+cpu CPU\n",
      "\n",
      "Fusing layers... \n",
      "Model Summary: 261 layers, 61922845 parameters, 0 gradients\n",
      "Adding AutoShape... \n",
      "C:\\Users\\toru.hishinuma\\anaconda3\\envs\\yolov3_test\\lib\\site-packages\\torch\\amp\\autocast_mode.py:198: UserWarning: User provided device_type of 'cuda', but CUDA is not available. Disabling\n",
      "  warnings.warn('User provided device_type of \\'cuda\\', but CUDA is not available. Disabling')\n",
      "image 1/1: 720x1280 2 persons, 2 ties\n",
      "Speed: 1563.4ms pre-process, 1057.8ms inference, 2.0ms NMS per image at shape (1, 3, 384, 640)\n"
     ]
    }
   ],
   "source": [
    "import torch\n",
    "\n",
    "# Model\n",
    "model = torch.hub.load('ultralytics/yolov3', 'yolov3')  # or yolov3-spp, yolov3-tiny, custom\n",
    "\n",
    "# Images\n",
    "img = 'https://ultralytics.com/images/zidane.jpg'  # or file, Path, PIL, OpenCV, numpy, list\n",
    "\n",
    "# Inference\n",
    "results = model(img)\n",
    "\n",
    "# Results\n",
    "results.print()  # or .show(), .save(), .crop(), .pandas(), etc."
   ]
  },
  {
   "cell_type": "markdown",
   "metadata": {},
   "source": []
  },
  {
   "cell_type": "code",
   "execution_count": null,
   "metadata": {},
   "outputs": [],
   "source": []
  }
 ],
 "metadata": {
  "kernelspec": {
   "display_name": "Python 3 (ipykernel)",
   "language": "python",
   "name": "python3"
  },
  "language_info": {
   "codemirror_mode": {
    "name": "ipython",
    "version": 3
   },
   "file_extension": ".py",
   "mimetype": "text/x-python",
   "name": "python",
   "nbconvert_exporter": "python",
   "pygments_lexer": "ipython3",
   "version": "3.7.0"
  }
 },
 "nbformat": 4,
 "nbformat_minor": 4
}
